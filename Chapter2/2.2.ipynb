{
 "cells": [
  {
   "cell_type": "markdown",
   "id": "6f40cfd1",
   "metadata": {},
   "source": [
    "# 2.2 Data preprocessing"
   ]
  },
  {
   "cell_type": "markdown",
   "id": "463ac21b",
   "metadata": {},
   "source": [
    "Reading dataset\n",
    "\n",
    "there should not exist space in first column of .csv file."
   ]
  },
  {
   "cell_type": "code",
   "execution_count": 26,
   "id": "29d4f422",
   "metadata": {},
   "outputs": [],
   "source": [
    "import os\n",
    "\n",
    "os.makedirs(os.path.join('..', '..', 'data'), exist_ok=True)\n",
    "data_file = os.path.join('..', '..', 'data', 'house_tiny.csv')\n",
    "with open(data_file, 'w') as f:\n",
    "    f.write('''NumRooms,RoofType,Price\n",
    "NA,NA,127500\n",
    "2,NA,106000\n",
    "4,Slate,178100\n",
    "NA,NA,140000''')\n"
   ]
  },
  {
   "cell_type": "code",
   "execution_count": 27,
   "id": "aeacbad2",
   "metadata": {},
   "outputs": [
    {
     "name": "stdout",
     "output_type": "stream",
     "text": [
      "   NumRooms RoofType   Price\n",
      "0       NaN      NaN  127500\n",
      "1       2.0      NaN  106000\n",
      "2       4.0    Slate  178100\n",
      "3       NaN      NaN  140000\n"
     ]
    }
   ],
   "source": [
    "import pandas as pd\n",
    "\n",
    "data = pd.read_csv(data_file)\n",
    "print(data)"
   ]
  },
  {
   "cell_type": "markdown",
   "id": "b89365a9",
   "metadata": {},
   "source": [
    "#### Handling missing data "
   ]
  },
  {
   "cell_type": "markdown",
   "id": "9a57dbe2",
   "metadata": {},
   "source": [
    "NaN: not a number\n",
    "\n",
    "iloc: integer-location based indexing"
   ]
  },
  {
   "cell_type": "code",
   "execution_count": 29,
   "id": "1a033c26",
   "metadata": {},
   "outputs": [
    {
     "name": "stdout",
     "output_type": "stream",
     "text": [
      "   NumRooms RoofType\n",
      "0       NaN      NaN\n",
      "1       2.0      NaN\n",
      "2       4.0    Slate\n",
      "3       NaN      NaN\n",
      "   NumRooms RoofType\n",
      "0       3.0      NaN\n",
      "1       2.0      NaN\n",
      "2       4.0    Slate\n",
      "3       3.0      NaN\n",
      "   NumRooms  RoofType_Slate  RoofType_nan\n",
      "0       3.0               0             1\n",
      "1       2.0               0             1\n",
      "2       4.0               1             0\n",
      "3       3.0               0             1\n"
     ]
    }
   ],
   "source": [
    "inputs, targets =data.iloc[:, 0:2], data.iloc[:, 2]\n",
    "print(inputs)\n",
    "inputs = inputs.fillna(inputs.mean())\n",
    "print(inputs)\n",
    "inputs = pd.get_dummies(inputs, dummy_na=True)\n",
    "print(inputs)\n"
   ]
  },
  {
   "cell_type": "markdown",
   "id": "e04d77a6",
   "metadata": {},
   "source": [
    "Convert to the tensor format"
   ]
  },
  {
   "cell_type": "code",
   "execution_count": 30,
   "id": "9f8b8927",
   "metadata": {},
   "outputs": [
    {
     "data": {
      "text/plain": [
       "(tensor([[3., 0., 1.],\n",
       "         [2., 0., 1.],\n",
       "         [4., 1., 0.],\n",
       "         [3., 0., 1.]], dtype=torch.float64),\n",
       " tensor([127500, 106000, 178100, 140000]))"
      ]
     },
     "execution_count": 30,
     "metadata": {},
     "output_type": "execute_result"
    }
   ],
   "source": [
    "import torch\n",
    "\n",
    "X, y = torch.tensor(inputs.values), torch.tensor(targets.values)\n",
    "X, y"
   ]
  }
 ],
 "metadata": {
  "kernelspec": {
   "display_name": "Python 3 (ipykernel)",
   "language": "python",
   "name": "python3"
  },
  "language_info": {
   "codemirror_mode": {
    "name": "ipython",
    "version": 3
   },
   "file_extension": ".py",
   "mimetype": "text/x-python",
   "name": "python",
   "nbconvert_exporter": "python",
   "pygments_lexer": "ipython3",
   "version": "3.9.17"
  }
 },
 "nbformat": 4,
 "nbformat_minor": 5
}
